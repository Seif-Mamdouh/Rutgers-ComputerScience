{
  "cells": [
    {
      "cell_type": "markdown",
      "id": "1f548780",
      "metadata": {
        "id": "1f548780"
      },
      "source": [
        "# REGULAR EXPRESSIONS"
      ]
    },
    {
      "cell_type": "markdown",
      "id": "d16885e4",
      "metadata": {
        "id": "d16885e4"
      },
      "source": [
        "# ANCHORS\n",
        "Anchors match a position before or after other characters"
      ]
    },
    {
      "cell_type": "code",
      "execution_count": 1,
      "id": "ec4dbfc6",
      "metadata": {
        "colab": {
          "base_uri": "https://localhost:8080/"
        },
        "id": "ec4dbfc6",
        "outputId": "7d97268e-4000-47b9-9919-71c4b14464f9"
      },
      "outputs": [
        {
          "output_type": "stream",
          "name": "stdout",
          "text": [
            "Match\n"
          ]
        }
      ],
      "source": [
        "import re\n",
        "\n",
        "text = \"raccoon\"\n",
        "pattern = r'^ra'\n",
        "matches = re.findall(pattern, text, re.MULTILINE)\n",
        "\n",
        "if matches:\n",
        "    print(\"Match\")\n",
        "else:\n",
        "    print(\"No Match\")"
      ]
    },
    {
      "cell_type": "code",
      "execution_count": 2,
      "id": "015cbff5",
      "metadata": {
        "colab": {
          "base_uri": "https://localhost:8080/"
        },
        "id": "015cbff5",
        "outputId": "079bf63f-6b3a-4477-e537-02a5c145c22e"
      },
      "outputs": [
        {
          "output_type": "stream",
          "name": "stdout",
          "text": [
            "Match\n"
          ]
        }
      ],
      "source": [
        "text = \"raccoon\"\n",
        "pattern = r'oon$'\n",
        "matches = re.findall(pattern, text, re.MULTILINE)\n",
        "\n",
        "if matches:\n",
        "    print(\"Match\")\n",
        "else:\n",
        "    print(\"No Match\")"
      ]
    },
    {
      "cell_type": "code",
      "execution_count": 3,
      "id": "f26bf1d2",
      "metadata": {
        "colab": {
          "base_uri": "https://localhost:8080/"
        },
        "id": "f26bf1d2",
        "outputId": "fa7e0a38-434e-4799-db0f-619fec3b06a4"
      },
      "outputs": [
        {
          "output_type": "stream",
          "name": "stdout",
          "text": [
            "Match\n"
          ]
        }
      ],
      "source": [
        "text = \"raccoon kills\"\n",
        "pattern = r'\\Ar'\n",
        "matches = re.findall(pattern, text, re.MULTILINE)\n",
        "\n",
        "if matches:\n",
        "    print(\"Match\")\n",
        "else:\n",
        "    print(\"No Match\")"
      ]
    },
    {
      "cell_type": "code",
      "execution_count": 4,
      "id": "f6fab447",
      "metadata": {
        "colab": {
          "base_uri": "https://localhost:8080/"
        },
        "id": "f6fab447",
        "outputId": "f486d0db-4b20-4515-ac37-fa2942ad85f6"
      },
      "outputs": [
        {
          "output_type": "stream",
          "name": "stdout",
          "text": [
            "Match\n"
          ]
        }
      ],
      "source": [
        "text = \"the fox ran\"\n",
        "pattern = r'\\bfox\\b'\n",
        "matches = re.findall(pattern, text, re.MULTILINE)\n",
        "\n",
        "if matches:\n",
        "    print(\"Match\")\n",
        "else:\n",
        "    print(\"No Match\")"
      ]
    },
    {
      "cell_type": "code",
      "execution_count": 5,
      "id": "60bedcba",
      "metadata": {
        "colab": {
          "base_uri": "https://localhost:8080/"
        },
        "id": "60bedcba",
        "outputId": "6b9ea69c-53f0-4dd5-ba82-19a2f0394b56"
      },
      "outputs": [
        {
          "output_type": "stream",
          "name": "stdout",
          "text": [
            "Match\n"
          ]
        }
      ],
      "source": [
        "text = \"thefoxran\"\n",
        "pattern = r'\\Bfox\\B'\n",
        "matches = re.findall(pattern, text, re.MULTILINE)\n",
        "\n",
        "if matches:\n",
        "    print(\"Match\")\n",
        "else:\n",
        "    print(\"No Match\")"
      ]
    },
    {
      "cell_type": "markdown",
      "id": "bbd106aa",
      "metadata": {
        "id": "bbd106aa"
      },
      "source": [
        "# Matching types of character\n",
        "Rather than matching specific characters, you can match specific types of characters such as letters,\n",
        "numbers, and more"
      ]
    },
    {
      "cell_type": "code",
      "execution_count": 6,
      "id": "6f313e72",
      "metadata": {
        "colab": {
          "base_uri": "https://localhost:8080/"
        },
        "id": "6f313e72",
        "outputId": "0d91533b-30c1-4ba5-d9fa-527b69c3f921"
      },
      "outputs": [
        {
          "output_type": "stream",
          "name": "stdout",
          "text": [
            "Match\n"
          ]
        }
      ],
      "source": [
        "text = \"clean\"\n",
        "pattern = r'c.e'\n",
        "matches = re.findall(pattern, text, re.MULTILINE)\n",
        "\n",
        "if matches:\n",
        "    print(\"Match\")\n",
        "else:\n",
        "    print(\"No Match\")"
      ]
    },
    {
      "cell_type": "code",
      "execution_count": 7,
      "id": "89759a12",
      "metadata": {
        "colab": {
          "base_uri": "https://localhost:8080/"
        },
        "id": "89759a12",
        "outputId": "2c3abf87-6e1f-4b26-ea2c-2e90f3dbde8c"
      },
      "outputs": [
        {
          "output_type": "stream",
          "name": "stdout",
          "text": [
            "['2', '2', '2']\n",
            "Match\n"
          ]
        }
      ],
      "source": [
        "text = \"2vjgi22\"\n",
        "pattern = r'\\d'\n",
        "matches = re.findall(pattern, text, re.MULTILINE)\n",
        "print(matches)\n",
        "if matches:\n",
        "    print(\"Match\")\n",
        "else:\n",
        "    print(\"No Match\")"
      ]
    },
    {
      "cell_type": "code",
      "execution_count": 8,
      "id": "15e9cab9",
      "metadata": {
        "colab": {
          "base_uri": "https://localhost:8080/"
        },
        "id": "15e9cab9",
        "outputId": "d0a91d91-e77f-41eb-feb9-7642ad01f72b"
      },
      "outputs": [
        {
          "output_type": "stream",
          "name": "stdout",
          "text": [
            "['v', 'j', 'g', 'i']\n",
            "Match\n"
          ]
        }
      ],
      "source": [
        "text = \"2vjgi22\"\n",
        "pattern = r'\\D'\n",
        "matches = re.findall(pattern, text, re.MULTILINE)\n",
        "print(matches)\n",
        "if matches:\n",
        "    print(\"Match\")\n",
        "else:\n",
        "    print(\"No Match\")"
      ]
    },
    {
      "cell_type": "code",
      "execution_count": 9,
      "id": "a8cea5a2",
      "metadata": {
        "colab": {
          "base_uri": "https://localhost:8080/"
        },
        "id": "a8cea5a2",
        "outputId": "5d299287-7098-4e9d-c37b-cea3600bfa92"
      },
      "outputs": [
        {
          "output_type": "stream",
          "name": "stdout",
          "text": [
            "['rees']\n",
            "Match\n"
          ]
        }
      ],
      "source": [
        "text = \"trees\"\n",
        "pattern = r'\\wee\\w'\n",
        "matches = re.findall(pattern, text, re.MULTILINE)\n",
        "print(matches)\n",
        "if matches:\n",
        "    print(\"Match\")\n",
        "else:\n",
        "    print(\"No Match\")"
      ]
    },
    {
      "cell_type": "code",
      "execution_count": 10,
      "id": "7274a630",
      "metadata": {
        "colab": {
          "base_uri": "https://localhost:8080/"
        },
        "id": "7274a630",
        "outputId": "032af904-d1a4-4102-b9a8-338449f3933a"
      },
      "outputs": [
        {
          "output_type": "stream",
          "name": "stdout",
          "text": [
            "[' bat ']\n",
            "Match\n"
          ]
        }
      ],
      "source": [
        "text = \"swing the bat fast \"\n",
        "pattern = r'\\Wbat\\W'\n",
        "matches = re.findall(pattern, text, re.MULTILINE)\n",
        "print(matches)\n",
        "if matches:\n",
        "    print(\"Match\")\n",
        "else:\n",
        "    print(\"No Match\")"
      ]
    },
    {
      "cell_type": "code",
      "execution_count": 11,
      "id": "78321dd6",
      "metadata": {
        "colab": {
          "base_uri": "https://localhost:8080/"
        },
        "id": "78321dd6",
        "outputId": "222642bd-797c-4791-c212-b59f4d71f387"
      },
      "outputs": [
        {
          "output_type": "stream",
          "name": "stdout",
          "text": [
            "[' fox ']\n",
            "Match\n"
          ]
        }
      ],
      "source": [
        "text = \"the fox ate \"\n",
        "pattern = r'\\sfox\\s'\n",
        "matches = re.findall(pattern, text, re.MULTILINE)\n",
        "print(matches)\n",
        "if matches:\n",
        "    print(\"Match\")\n",
        "else:\n",
        "    print(\"No Match\")"
      ]
    },
    {
      "cell_type": "code",
      "execution_count": 12,
      "id": "2d262b01",
      "metadata": {
        "colab": {
          "base_uri": "https://localhost:8080/"
        },
        "id": "2d262b01",
        "outputId": "c41ed638-9d64-4b72-8625-850b127adf58"
      },
      "outputs": [
        {
          "output_type": "stream",
          "name": "stdout",
          "text": [
            "['bees']\n",
            "Match\n"
          ]
        }
      ],
      "source": [
        "text = \"bees\"\n",
        "pattern = r'\\See\\S'\n",
        "matches = re.findall(pattern, text, re.MULTILINE)\n",
        "print(matches)\n",
        "if matches:\n",
        "    print(\"Match\")\n",
        "else:\n",
        "    print(\"No Match\")"
      ]
    },
    {
      "cell_type": "code",
      "execution_count": 13,
      "id": "1b20c136",
      "metadata": {
        "colab": {
          "base_uri": "https://localhost:8080/"
        },
        "id": "1b20c136",
        "outputId": "618c8d37-6040-43d5-fb0c-71086f792cb1"
      },
      "outputs": [
        {
          "output_type": "stream",
          "name": "stdout",
          "text": [
            "['.']\n",
            "Match\n"
          ]
        }
      ],
      "source": [
        "text = \"the cat ate.\"\n",
        "pattern = r'\\.'\n",
        "matches = re.findall(pattern, text, re.MULTILINE)\n",
        "print(matches)\n",
        "if matches:\n",
        "    print(\"Match\")\n",
        "else:\n",
        "    print(\"No Match\")"
      ]
    },
    {
      "cell_type": "markdown",
      "id": "2d7f0e8a",
      "metadata": {
        "id": "2d7f0e8a"
      },
      "source": [
        "# Character Classes\n",
        "Character classes are sets or range of characters"
      ]
    },
    {
      "cell_type": "code",
      "execution_count": 14,
      "id": "e7d52afb",
      "metadata": {
        "colab": {
          "base_uri": "https://localhost:8080/"
        },
        "id": "e7d52afb",
        "outputId": "ad0ec47d-9e61-4698-9a84-62ad6b744eab"
      },
      "outputs": [
        {
          "output_type": "stream",
          "name": "stdout",
          "text": [
            "['grey']\n",
            "Match\n"
          ]
        }
      ],
      "source": [
        "text = \"grey\"\n",
        "pattern = r'gr[ea]y'\n",
        "matches = re.findall(pattern, text, re.MULTILINE)\n",
        "print(matches)\n",
        "if matches:\n",
        "    print(\"Match\")\n",
        "else:\n",
        "    print(\"No Match\")"
      ]
    },
    {
      "cell_type": "code",
      "execution_count": 15,
      "id": "4a67de00",
      "metadata": {
        "colab": {
          "base_uri": "https://localhost:8080/"
        },
        "id": "4a67de00",
        "outputId": "3dbf87b2-c88f-44ba-b796-bff9a4a2f5dc"
      },
      "outputs": [
        {
          "output_type": "stream",
          "name": "stdout",
          "text": [
            "['a', 'b', 'e']\n",
            "Match\n"
          ]
        }
      ],
      "source": [
        "text = \"amber\"\n",
        "pattern = r'[a-e]'\n",
        "matches = re.findall(pattern, text, re.MULTILINE)\n",
        "print(matches)\n",
        "if matches:\n",
        "    print(\"Match\")\n",
        "else:\n",
        "    print(\"No Match\")"
      ]
    },
    {
      "cell_type": "code",
      "execution_count": 16,
      "id": "15123540",
      "metadata": {
        "colab": {
          "base_uri": "https://localhost:8080/"
        },
        "id": "15123540",
        "outputId": "a9f64c10-ea3c-4510-8ac8-5b47729ae51e"
      },
      "outputs": [
        {
          "output_type": "stream",
          "name": "stdout",
          "text": [
            "['green']\n",
            "Match\n"
          ]
        }
      ],
      "source": [
        "text = \"green\"\n",
        "pattern = r'gree[^ea]'\n",
        "matches = re.findall(pattern, text, re.MULTILINE)\n",
        "print(matches)\n",
        "if matches:\n",
        "    print(\"Match\")\n",
        "else:\n",
        "    print(\"No Match\")"
      ]
    },
    {
      "cell_type": "code",
      "execution_count": 17,
      "id": "d66d8955",
      "metadata": {
        "colab": {
          "base_uri": "https://localhost:8080/"
        },
        "id": "d66d8955",
        "outputId": "8c09f878-8495-4446-9d6c-fc8752c16807"
      },
      "outputs": [
        {
          "output_type": "stream",
          "name": "stdout",
          "text": [
            "['4*3']\n",
            "Match\n"
          ]
        }
      ],
      "source": [
        "text = \"4*3\"\n",
        "pattern = r'4[-.^+*/]\\d'\n",
        "matches = re.findall(pattern, text, re.MULTILINE)\n",
        "print(matches)\n",
        "if matches:\n",
        "    print(\"Match\")\n",
        "else:\n",
        "    print(\"No Match\")"
      ]
    },
    {
      "cell_type": "markdown",
      "id": "e374b6fb",
      "metadata": {
        "id": "e374b6fb"
      },
      "source": [
        "# Repetition\n",
        "Rather than matching single instances of characters, you can match repeated characters."
      ]
    },
    {
      "cell_type": "code",
      "execution_count": 18,
      "id": "2cea5ea8",
      "metadata": {
        "colab": {
          "base_uri": "https://localhost:8080/"
        },
        "id": "2cea5ea8",
        "outputId": "701418eb-762d-4233-d363-2a479a1cecb3"
      },
      "outputs": [
        {
          "output_type": "stream",
          "name": "stdout",
          "text": [
            "['arro']\n",
            "Match\n"
          ]
        }
      ],
      "source": [
        "text = \"carrot\"\n",
        "pattern = r'ar*o'\n",
        "matches = re.findall(pattern, text, re.MULTILINE)\n",
        "print(matches)\n",
        "if matches:\n",
        "    print(\"Match\")\n",
        "else:\n",
        "    print(\"No Match\")"
      ]
    },
    {
      "cell_type": "code",
      "execution_count": 19,
      "id": "b83b989a",
      "metadata": {
        "colab": {
          "base_uri": "https://localhost:8080/"
        },
        "id": "b83b989a",
        "outputId": "5ad2e99a-92a2-42fe-dd2a-79126b7e4158"
      },
      "outputs": [
        {
          "output_type": "stream",
          "name": "stdout",
          "text": [
            "['ree']\n",
            "Match\n"
          ]
        }
      ],
      "source": [
        "text = \"green\"\n",
        "pattern = r're+'\n",
        "matches = re.findall(pattern, text, re.MULTILINE)\n",
        "print(matches)\n",
        "if matches:\n",
        "    print(\"Match\")\n",
        "else:\n",
        "    print(\"No Match\")"
      ]
    },
    {
      "cell_type": "code",
      "execution_count": 20,
      "id": "713795ae",
      "metadata": {
        "colab": {
          "base_uri": "https://localhost:8080/"
        },
        "id": "713795ae",
        "outputId": "3bf96be2-ef0a-4212-acdd-2e222eeb39e7"
      },
      "outputs": [
        {
          "output_type": "stream",
          "name": "stdout",
          "text": [
            "['roa']\n",
            "Match\n"
          ]
        }
      ],
      "source": [
        "text = \"roast\"\n",
        "pattern = r'ro?a'\n",
        "matches = re.findall(pattern, text, re.MULTILINE)\n",
        "print(matches)\n",
        "if matches:\n",
        "    print(\"Match\")\n",
        "else:\n",
        "    print(\"No Match\")"
      ]
    },
    {
      "cell_type": "code",
      "execution_count": 21,
      "id": "babed4ad",
      "metadata": {
        "colab": {
          "base_uri": "https://localhost:8080/"
        },
        "id": "babed4ad",
        "outputId": "317227bd-0bcc-4859-c959-5cee272594f3"
      },
      "outputs": [
        {
          "output_type": "stream",
          "name": "stdout",
          "text": [
            "['deer']\n",
            "Match\n"
          ]
        }
      ],
      "source": [
        "text = \"deer\"\n",
        "pattern = r'\\we{2}\\w'\n",
        "matches = re.findall(pattern, text, re.MULTILINE)\n",
        "print(matches)\n",
        "if matches:\n",
        "    print(\"Match\")\n",
        "else:\n",
        "    print(\"No Match\")"
      ]
    },
    {
      "cell_type": "code",
      "execution_count": 22,
      "id": "d785ed79",
      "metadata": {
        "colab": {
          "base_uri": "https://localhost:8080/"
        },
        "id": "d785ed79",
        "outputId": "82831f99-a78c-468a-8fd9-1f6078e6fc09"
      },
      "outputs": [
        {
          "output_type": "stream",
          "name": "stdout",
          "text": [
            "['2222224']\n",
            "Match\n"
          ]
        }
      ],
      "source": [
        "text = \"2222224\"\n",
        "pattern = r'2{3,}4'\n",
        "matches = re.findall(pattern, text, re.MULTILINE)\n",
        "print(matches)\n",
        "if matches:\n",
        "    print(\"Match\")\n",
        "else:\n",
        "    print(\"No Match\")"
      ]
    },
    {
      "cell_type": "code",
      "execution_count": 23,
      "id": "a9b620a9",
      "metadata": {
        "colab": {
          "base_uri": "https://localhost:8080/"
        },
        "id": "a9b620a9",
        "outputId": "f48167ad-0082-4572-e571-c75cee626f36"
      },
      "outputs": [
        {
          "output_type": "stream",
          "name": "stdout",
          "text": [
            "['22224']\n",
            "Match\n"
          ]
        }
      ],
      "source": [
        "text = \"2222224\"\n",
        "pattern = r'2{3,4}4'\n",
        "matches = re.findall(pattern, text, re.MULTILINE)\n",
        "print(matches)\n",
        "if matches:\n",
        "    print(\"Match\")\n",
        "else:\n",
        "    print(\"No Match\")"
      ]
    },
    {
      "cell_type": "code",
      "execution_count": 24,
      "id": "f8ecd532",
      "metadata": {
        "colab": {
          "base_uri": "https://localhost:8080/"
        },
        "id": "f8ecd532",
        "outputId": "e3dab36f-d039-4285-dedf-3f3a6aeb3604"
      },
      "outputs": [
        {
          "output_type": "stream",
          "name": "stdout",
          "text": [
            "['re']\n",
            "Match\n"
          ]
        }
      ],
      "source": [
        "text = \"tree\"\n",
        "pattern = r're+?'\n",
        "matches = re.findall(pattern, text, re.MULTILINE)\n",
        "print(matches)\n",
        "if matches:\n",
        "    print(\"Match\")\n",
        "else:\n",
        "    print(\"No Match\")"
      ]
    },
    {
      "cell_type": "markdown",
      "id": "3d124e1a",
      "metadata": {
        "id": "3d124e1a"
      },
      "source": [
        "# Capturing, alternation & backreferences\n",
        "In order to extract specific parts of a string, you can capture those parts, and even name the parts that you\n",
        "captured"
      ]
    },
    {
      "cell_type": "code",
      "execution_count": 25,
      "id": "676fb5c1",
      "metadata": {
        "colab": {
          "base_uri": "https://localhost:8080/"
        },
        "id": "676fb5c1",
        "outputId": "d5d6f2b2-c2f6-4099-c71b-5561efd7af0f"
      },
      "outputs": [
        {
          "output_type": "stream",
          "name": "stdout",
          "text": [
            "['iss']\n",
            "Match\n"
          ]
        }
      ],
      "source": [
        "text = \"Mississippi\"\n",
        "pattern = r'(iss)+'\n",
        "matches = re.findall(pattern, text, re.MULTILINE)\n",
        "print(matches)\n",
        "if matches:\n",
        "    print(\"Match\")\n",
        "else:\n",
        "    print(\"No Match\")"
      ]
    },
    {
      "cell_type": "code",
      "execution_count": 26,
      "id": "c23f0ae8",
      "metadata": {
        "colab": {
          "base_uri": "https://localhost:8080/"
        },
        "id": "c23f0ae8",
        "outputId": "56615a04-3a06-4fb0-9cd2-4227f1a78c27"
      },
      "outputs": [
        {
          "output_type": "stream",
          "name": "stdout",
          "text": [
            "['cd']\n",
            "Match\n"
          ]
        }
      ],
      "source": [
        "text = \"abcd\"\n",
        "pattern = r'(?:ab)(cd)'\n",
        "matches = re.findall(pattern, text, re.MULTILINE)\n",
        "print(matches)\n",
        "if matches:\n",
        "    print(\"Match\")\n",
        "else:\n",
        "    print(\"No Match\")"
      ]
    },
    {
      "cell_type": "code",
      "execution_count": 27,
      "id": "4c34c8bd",
      "metadata": {
        "colab": {
          "base_uri": "https://localhost:8080/"
        },
        "id": "4c34c8bd",
        "outputId": "e4706846-b6bc-4901-bd42-9faf16b5f6e0"
      },
      "outputs": [
        {
          "output_type": "stream",
          "name": "stdout",
          "text": [
            "first: 1, second: 3\n"
          ]
        }
      ],
      "source": [
        "import re\n",
        "\n",
        "text = \"1325\"\n",
        "pattern = r'(?P<first>\\d)(?P<second>\\d)'\n",
        "matches = re.match(pattern, text, re.MULTILINE)\n",
        "if matches:\n",
        "    first_digit = matches.group('first')\n",
        "    second_digit = matches.group('second')\n",
        "    print(f\"first: {first_digit}, second: {second_digit}\")\n",
        "else:\n",
        "    print(\"No match found\")"
      ]
    },
    {
      "cell_type": "code",
      "execution_count": 28,
      "id": "00a2b0f3",
      "metadata": {
        "colab": {
          "base_uri": "https://localhost:8080/"
        },
        "id": "00a2b0f3",
        "outputId": "12918d3a-31a7-4564-ebef-07008dfb0efe"
      },
      "outputs": [
        {
          "output_type": "stream",
          "name": "stdout",
          "text": [
            "['ba']\n",
            "Match\n"
          ]
        }
      ],
      "source": [
        "text = \"bath\"\n",
        "pattern = r'(re|ba)'\n",
        "matches = re.findall(pattern, text, re.MULTILINE)\n",
        "print(matches)\n",
        "if matches:\n",
        "    print(\"Match\")\n",
        "else:\n",
        "    print(\"No Match\")"
      ]
    },
    {
      "cell_type": "code",
      "execution_count": 29,
      "id": "767fe690",
      "metadata": {
        "colab": {
          "base_uri": "https://localhost:8080/"
        },
        "id": "767fe690",
        "outputId": "ac4b9267-f9f3-4a6b-919d-9867e0788e15"
      },
      "outputs": [
        {
          "output_type": "stream",
          "name": "stdout",
          "text": [
            "<re.Match object; span=(0, 4), match='brib'>\n",
            "Match\n"
          ]
        }
      ],
      "source": [
        "text = \"bribe\"\n",
        "pattern = r'(b)(\\w*)\\1'\n",
        "matches = re.match(pattern, text, re.MULTILINE)\n",
        "print(matches)\n",
        "if matches:\n",
        "    print(\"Match\")\n",
        "else:\n",
        "    print(\"No Match\")"
      ]
    },
    {
      "cell_type": "code",
      "execution_count": 30,
      "id": "7a2364e8",
      "metadata": {
        "colab": {
          "base_uri": "https://localhost:8080/"
        },
        "id": "7a2364e8",
        "outputId": "535f2b60-7e97-4e76-899f-06b2a89be136"
      },
      "outputs": [
        {
          "output_type": "stream",
          "name": "stdout",
          "text": [
            "Matched: 5\n",
            "Digits in between: 124\n"
          ]
        }
      ],
      "source": [
        "import re\n",
        "\n",
        "input_text = \"51245\"\n",
        "\n",
        "# Define the pattern to match repeated '5'\n",
        "pattern = r'(5+)'\n",
        "\n",
        "match = re.search(pattern, input_text)\n",
        "\n",
        "if match:\n",
        "    repeated_5s = match.group(1)  # Group 1 captures the repeated '5'\n",
        "    digits_in_between = input_text.replace(repeated_5s, \"\")\n",
        "    print(f\"Matched: {repeated_5s}\")\n",
        "    print(f\"Digits in between: {digits_in_between}\")\n",
        "else:\n",
        "    print(\"No match found\")\n"
      ]
    },
    {
      "cell_type": "markdown",
      "id": "3e193159",
      "metadata": {
        "id": "3e193159"
      },
      "source": [
        "# Lookahead\n",
        "You can specify that specific characters must appear before or after you match, without including those\n",
        "characters in the match."
      ]
    },
    {
      "cell_type": "code",
      "execution_count": 31,
      "id": "11d2a099",
      "metadata": {
        "colab": {
          "base_uri": "https://localhost:8080/"
        },
        "id": "11d2a099",
        "outputId": "e29246fb-bc6d-4b34-e50a-d5d9ca7de7fd"
      },
      "outputs": [
        {
          "output_type": "stream",
          "name": "stdout",
          "text": [
            "['iss']\n",
            "Match\n"
          ]
        }
      ],
      "source": [
        "text = \"Mississippi\"\n",
        "pattern = r'iss(?=iss)'\n",
        "matches = re.findall(pattern, text, re.MULTILINE)\n",
        "print(matches)\n",
        "if matches:\n",
        "    print(\"Match\")\n",
        "else:\n",
        "    print(\"No Match\")"
      ]
    },
    {
      "cell_type": "code",
      "execution_count": 32,
      "id": "abeba9d2",
      "metadata": {
        "colab": {
          "base_uri": "https://localhost:8080/"
        },
        "id": "abeba9d2",
        "outputId": "6ec77067-9898-41db-c917-86036926779d"
      },
      "outputs": [
        {
          "output_type": "stream",
          "name": "stdout",
          "text": [
            "['ai']\n",
            "Match\n"
          ]
        }
      ],
      "source": [
        "text = \"fail\"\n",
        "pattern = r'ai(?!n)'\n",
        "matches = re.findall(pattern, text, re.MULTILINE)\n",
        "print(matches)\n",
        "if matches:\n",
        "    print(\"Match\")\n",
        "else:\n",
        "    print(\"No Match\")"
      ]
    },
    {
      "cell_type": "code",
      "execution_count": 33,
      "id": "31d771ed",
      "metadata": {
        "colab": {
          "base_uri": "https://localhost:8080/"
        },
        "id": "31d771ed",
        "outputId": "b0aa4066-7828-452b-80a9-58068fa54a78"
      },
      "outputs": [
        {
          "output_type": "stream",
          "name": "stdout",
          "text": [
            "['a']\n",
            "Match\n"
          ]
        }
      ],
      "source": [
        "text = \"trail\"\n",
        "pattern = r'(?<=tr)a'\n",
        "matches = re.findall(pattern, text, re.MULTILINE)\n",
        "print(matches)\n",
        "if matches:\n",
        "    print(\"Match\")\n",
        "else:\n",
        "    print(\"No Match\")"
      ]
    },
    {
      "cell_type": "code",
      "execution_count": 34,
      "id": "d14b821f",
      "metadata": {
        "colab": {
          "base_uri": "https://localhost:8080/"
        },
        "id": "d14b821f",
        "outputId": "62107e37-2bce-4c8c-f0b4-446f896187b0"
      },
      "outputs": [
        {
          "output_type": "stream",
          "name": "stdout",
          "text": [
            "['a']\n",
            "Match\n"
          ]
        }
      ],
      "source": [
        "text = \"bear\"\n",
        "pattern = r'(?!tr)a'\n",
        "matches = re.findall(pattern, text, re.MULTILINE)\n",
        "print(matches)\n",
        "if matches:\n",
        "    print(\"Match\")\n",
        "else:\n",
        "    print(\"No Match\")"
      ]
    },
    {
      "cell_type": "markdown",
      "id": "08fb6ac4",
      "metadata": {
        "id": "08fb6ac4"
      },
      "source": [
        "# Literal Matches and Modifiers\n",
        "Modifiers are settings that change the way the matching rules work."
      ]
    },
    {
      "cell_type": "code",
      "execution_count": 35,
      "id": "67a5a376",
      "metadata": {
        "colab": {
          "base_uri": "https://localhost:8080/"
        },
        "id": "67a5a376",
        "outputId": "ff1b520b-c773-47b2-a14b-61aecb041a99"
      },
      "outputs": [
        {
          "output_type": "stream",
          "name": "stdout",
          "text": [
            "Matches found:\n",
            "tell\n"
          ]
        }
      ],
      "source": [
        "text = \"I'll tell you this\"\n",
        "\n",
        "# Search for \"$100\" and \"10 * 5\"\n",
        "pattern = r'tell'\n",
        "\n",
        "matches = re.findall(pattern, text)\n",
        "\n",
        "if matches:\n",
        "    print(\"Matches found:\")\n",
        "    for match in matches:\n",
        "        print(match)\n",
        "else:\n",
        "    print(\"No matches found\")"
      ]
    },
    {
      "cell_type": "code",
      "execution_count": 36,
      "id": "c348577d",
      "metadata": {
        "colab": {
          "base_uri": "https://localhost:8080/"
        },
        "id": "c348577d",
        "outputId": "0814d6df-2583-4ef5-dbdd-278aea7602b6"
      },
      "outputs": [
        {
          "output_type": "stream",
          "name": "stdout",
          "text": [
            "['tE']\n",
            "Match\n"
          ]
        }
      ],
      "source": [
        "text = \"stEp\"\n",
        "pattern = r'(?i)te'\n",
        "matches = re.findall(pattern, text, re.MULTILINE)\n",
        "print(matches)\n",
        "if matches:\n",
        "    print(\"Match\")\n",
        "else:\n",
        "    print(\"No Match\")"
      ]
    },
    {
      "cell_type": "code",
      "execution_count": 37,
      "id": "8c20f08d",
      "metadata": {
        "colab": {
          "base_uri": "https://localhost:8080/"
        },
        "id": "8c20f08d",
        "outputId": "6f9d1a95-f77f-4e77-eef3-79f7feaed13f"
      },
      "outputs": [
        {
          "output_type": "stream",
          "name": "stdout",
          "text": [
            "['tap']\n",
            "Match\n"
          ]
        }
      ],
      "source": [
        "text = \"tapdance\"\n",
        "pattern = r'(?x)t a p'\n",
        "matches = re.findall(pattern, text, re.MULTILINE)\n",
        "print(matches)\n",
        "if matches:\n",
        "    print(\"Match\")\n",
        "else:\n",
        "    print(\"No Match\")"
      ]
    },
    {
      "cell_type": "code",
      "execution_count": 38,
      "id": "ca8f3ac5",
      "metadata": {
        "colab": {
          "base_uri": "https://localhost:8080/"
        },
        "id": "ca8f3ac5",
        "outputId": "e99f68ef-4336-43f0-8430-4d678c372f88"
      },
      "outputs": [
        {
          "output_type": "stream",
          "name": "stdout",
          "text": [
            "['Second and third']\n",
            "Match\n"
          ]
        }
      ],
      "source": [
        "text = \"\"\"first and\n",
        "Second and third\"\"\"\n",
        "pattern = r'(?s)Second and third'\n",
        "matches = re.findall(pattern, text, re.MULTILINE)\n",
        "print(matches)\n",
        "if matches:\n",
        "    print(\"Match\")\n",
        "else:\n",
        "    print(\"No Match\")"
      ]
    },
    {
      "cell_type": "code",
      "execution_count": 39,
      "id": "d7fad156",
      "metadata": {
        "colab": {
          "base_uri": "https://localhost:8080/"
        },
        "id": "d7fad156",
        "outputId": "f44df3c1-0e74-4d5a-d75d-40dd27d4c5bb"
      },
      "outputs": [
        {
          "output_type": "stream",
          "name": "stdout",
          "text": [
            "Lines that start with 'e':\n",
            "eat and sleep\n"
          ]
        }
      ],
      "source": [
        "text = \"\"\"eat and sleep\"\"\"\n",
        "\n",
        "pattern = r'(?m)^e.*'\n",
        "\n",
        "matches = re.findall(pattern, text)\n",
        "\n",
        "if matches:\n",
        "    print(\"Lines that start with 'e':\")\n",
        "    for match in matches:\n",
        "        print(match)\n",
        "else:\n",
        "    print(\"No lines start with 'e'\")"
      ]
    },
    {
      "cell_type": "markdown",
      "id": "8b864b8c",
      "metadata": {
        "id": "8b864b8c"
      },
      "source": [
        "# Unicode\n",
        "Regular expressions can work beyond the Roman alphabet, with things like Chinese characters or emoji\n",
        "1. Code Points: The hexadecimal number used to represent an abstract character in a system like unicode\n",
        "2. Graphemes: Is either a codepoint or a character. All characters are made up of one or more graphemes in a sequence"
      ]
    },
    {
      "cell_type": "code",
      "execution_count": 40,
      "id": "6268d588",
      "metadata": {
        "colab": {
          "base_uri": "https://localhost:8080/"
        },
        "id": "6268d588",
        "outputId": "c86e7120-5673-44d8-8d43-3f8e3ce64c00"
      },
      "outputs": [
        {
          "output_type": "stream",
          "name": "stdout",
          "text": [
            "['@gmail']\n",
            "match\n"
          ]
        }
      ],
      "source": [
        "text = \"www.email@gmail.com\"\n",
        "\n",
        "pattern = r'\\u0040gmail'\n",
        "\n",
        "matches = re.findall(pattern, text)\n",
        "print(matches)\n",
        "\n",
        "if matches:\n",
        "    for match in matches:\n",
        "        print(\"match\")\n",
        "else:\n",
        "    print(\"No match\")"
      ]
    },
    {
      "cell_type": "code",
      "execution_count": 41,
      "id": "868f8abc",
      "metadata": {
        "colab": {
          "base_uri": "https://localhost:8080/"
        },
        "id": "868f8abc",
        "outputId": "c150322c-cbf4-46e3-f060-087636d8ba2e"
      },
      "outputs": [
        {
          "output_type": "stream",
          "name": "stdout",
          "text": [
            "['è']\n",
            "match\n"
          ]
        }
      ],
      "source": [
        "text = \"cafè\"\n",
        "\n",
        "pattern = r'\\u00e8'\n",
        "\n",
        "matches = re.findall(pattern, text)\n",
        "print(matches)\n",
        "\n",
        "if matches:\n",
        "    for match in matches:\n",
        "        print(\"match\")\n",
        "else:\n",
        "    print(\"No match\")"
      ]
    },
    {
      "cell_type": "code",
      "execution_count": 43,
      "id": "255b9048",
      "metadata": {
        "id": "255b9048",
        "colab": {
          "base_uri": "https://localhost:8080/"
        },
        "outputId": "2d721dcc-7279-4966-a26d-875d05bcf426"
      },
      "outputs": [
        {
          "output_type": "stream",
          "name": "stdout",
          "text": [
            "john.doe@example.com is a valid email address.\n",
            "jane.doe@example is not a valid email address.\n",
            "invalid_email is not a valid email address.\n",
            "user@.com is not a valid email address.\n",
            "user@com. is not a valid email address.\n"
          ]
        }
      ],
      "source": [
        "# Check Valid Email\n",
        "\n",
        "import re\n",
        "\n",
        "# Regular expression pattern for a valid email address\n",
        "email_pattern = r'^[a-zA-Z0-9._%+-]+@[a-zA-Z0-9.-]+\\.[a-zA-Z]{2,}$'\n",
        "\n",
        "def is_valid_email(email):\n",
        "    # Use the re.match() function to check if the email matches the pattern\n",
        "    if re.match(email_pattern, email):\n",
        "        return True\n",
        "    else:\n",
        "        return False\n",
        "\n",
        "# Test email addresses\n",
        "emails_to_test = [\n",
        "    \"john.doe@example.com\",\n",
        "    \"jane.doe@example\",\n",
        "    \"invalid_email\",\n",
        "    \"user@.com\",\n",
        "    \"user@com.\",\n",
        "]\n",
        "\n",
        "for email in emails_to_test:\n",
        "    if is_valid_email(email):\n",
        "        print(f\"{email} is a valid email address.\")\n",
        "    else:\n",
        "        print(f\"{email} is not a valid email address.\")\n"
      ]
    },
    {
      "cell_type": "markdown",
      "source": [
        "The line defines a regular expression pattern for a valid email address. The pattern consists of three parts:\n",
        "\n",
        "^[a-zA-Z0-9._%+-]+: This part matches the local part of the email address, which includes letters (both uppercase and lowercase), digits, and certain special characters like dots, underscores, percent signs, and plus signs.\n",
        "@: This part matches the \"@\" symbol, which separates the local part from the domain part of the email address.\n",
        "\n",
        "[a-zA-Z0-9.-]+\\.[a-zA-Z]{2,}$: This part matches the domain part of the email address, which includes letters, digits, dots, and hyphens. It also ensures that the domain has at least two characters and ends with a dot.\n",
        "\n",
        "The function, is_valid_email, takes an email address as an argument and uses the re.match() function to check if the provided email address matches the defined email_pattern. If it matches, the function returns True, indicating that the email is valid. Otherwise, it returns False."
      ],
      "metadata": {
        "id": "fd7o0Vzq4SOP"
      },
      "id": "fd7o0Vzq4SOP"
    },
    {
      "cell_type": "code",
      "source": [
        "#Check Valid URL\n",
        "\n",
        "import re\n",
        "\n",
        "# Regular expression pattern for a valid URL\n",
        "url_pattern = r'^(http|https)://[a-zA-Z0-9.-]+\\.[a-zA-Z]{2,}/?[a-zA-Z0-9-._?=/]*$'\n",
        "\n",
        "def is_valid_url(url):\n",
        "    # Use the re.match() function to check if the URL matches the pattern\n",
        "    if re.match(url_pattern, url):\n",
        "        return True\n",
        "    else:\n",
        "        return False\n",
        "\n",
        "# Test URLs\n",
        "urls_to_test = [\n",
        "    \"http://www.example.com\",\n",
        "    \"https://example.com\",\n",
        "    \"ftp://invalid-url\",\n",
        "    \"www.invalid.url\",\n",
        "    \"http://website.com/path/to/page?param=value\",\n",
        "]\n",
        "\n",
        "for url in urls_to_test:\n",
        "    if is_valid_url(url):\n",
        "        print(f\"{url} is a valid URL.\")\n",
        "    else:\n",
        "        print(f\"{url} is not a valid URL.\")\n"
      ],
      "metadata": {
        "colab": {
          "base_uri": "https://localhost:8080/"
        },
        "id": "zqFw_Wyj4X7P",
        "outputId": "d4432bac-3e76-417c-93bc-6571f229d83a"
      },
      "id": "zqFw_Wyj4X7P",
      "execution_count": 44,
      "outputs": [
        {
          "output_type": "stream",
          "name": "stdout",
          "text": [
            "http://www.example.com is a valid URL.\n",
            "https://example.com is a valid URL.\n",
            "ftp://invalid-url is not a valid URL.\n",
            "www.invalid.url is not a valid URL.\n",
            "http://website.com/path/to/page?param=value is a valid URL.\n"
          ]
        }
      ]
    },
    {
      "cell_type": "markdown",
      "source": [
        "The line defines a regular expression pattern for a valid URL. The pattern consists of several parts:\n",
        "\n",
        "^(http|https)://: This part matches either \"http://\" or \"https://://\" at the beginning of the URL.\n",
        "\n",
        "[a-zA-Z0-9.-]+: This part matches the domain part of the URL, which includes letters (both uppercase and lowercase), digits, dots, and hyphens.\n",
        "\\.[a-zA-Z]{2,}: This part ensures that the domain has at least two characters and ends with a dot.\n",
        "\n",
        "/?: This part matches an optional forward slash immediately after the domain.\n",
        "[a-zA-Z0-9-._?=/]*: This part matches the path and query string of the URL, allowing letters, digits, hyphens, dots, underscores, question marks, and forward slashes.\n",
        "\n",
        "The function, is_valid_url, takes a URL as input and uses the re.match() function to check if the provided URL matches the defined url_pattern. If it matches, the function returns True, indicating that the URL is valid. Otherwise, it returns False."
      ],
      "metadata": {
        "id": "rD3m52hF4sja"
      },
      "id": "rD3m52hF4sja"
    },
    {
      "cell_type": "code",
      "source": [
        "# Valid Sentences or not\n",
        "\n",
        "import re\n",
        "\n",
        "# Regular expression pattern for a valid sentence (basic example)\n",
        "sentence_pattern = r'^[A-Z][a-z,\\'\" ]+\\.$'\n",
        "\n",
        "def is_valid_sentence(sentence):\n",
        "    # Use the re.match() function to check if the sentence matches the pattern\n",
        "    if re.match(sentence_pattern, sentence):\n",
        "        return True\n",
        "    else:\n",
        "        return False\n",
        "\n",
        "# Test sentences\n",
        "sentences_to_test = [\n",
        "    \"This is a valid sentence.\",\n",
        "    \"invalid sentence\",\n",
        "    \"Another valid sentence, with a comma.\",\n",
        "    \"A sentence with numbers 123 is not valid.\",\n",
        "    \"A valid sentence with 'quotes'.\",\n",
        "]\n",
        "\n",
        "for sentence in sentences_to_test:\n",
        "    if is_valid_sentence(sentence):\n",
        "        print(f'\"{sentence}\" is a valid sentence.')\n",
        "    else:\n",
        "        print(f'\"{sentence}\" is not a valid sentence.')\n"
      ],
      "metadata": {
        "colab": {
          "base_uri": "https://localhost:8080/"
        },
        "id": "1j9UxrLD4zpv",
        "outputId": "3f8c2ccf-314b-466e-9ee2-a302a8e9f79c"
      },
      "id": "1j9UxrLD4zpv",
      "execution_count": 45,
      "outputs": [
        {
          "output_type": "stream",
          "name": "stdout",
          "text": [
            "\"This is a valid sentence.\" is a valid sentence.\n",
            "\"invalid sentence\" is not a valid sentence.\n",
            "\"Another valid sentence, with a comma.\" is a valid sentence.\n",
            "\"A sentence with numbers 123 is not valid.\" is not a valid sentence.\n",
            "\"A valid sentence with 'quotes'.\" is a valid sentence.\n"
          ]
        }
      ]
    },
    {
      "cell_type": "markdown",
      "source": [
        "The line defines a regular expression pattern for a basic example of a valid sentence. The pattern consists of several parts:\n",
        "\n",
        "^: Matches the start of the string.\n",
        "\n",
        "[A-Z]: Matches an uppercase letter at the beginning of the sentence.\n",
        "\n",
        "[a-z,\\'\" ]+: Matches one or more lowercase letters, commas, single quotes, double quotes, or spaces.\n",
        "\n",
        "\\.: Matches a period (.) at the end of the sentence.\n",
        "\n",
        "$: Matches the end of the string.\n",
        "\n",
        "The function, is_valid_sentence, takes a sentence as input and uses the re.match() function to check if the provided sentence matches the defined sentence_pattern. If it matches, the function returns True, indicating that the sentence is valid. Otherwise, it returns False."
      ],
      "metadata": {
        "id": "FQ2GNNC65W29"
      },
      "id": "FQ2GNNC65W29"
    },
    {
      "cell_type": "code",
      "source": [],
      "metadata": {
        "id": "emwKLTCm5dq0"
      },
      "id": "emwKLTCm5dq0",
      "execution_count": null,
      "outputs": []
    }
  ],
  "metadata": {
    "kernelspec": {
      "display_name": "Python 3 (ipykernel)",
      "language": "python",
      "name": "python3"
    },
    "language_info": {
      "codemirror_mode": {
        "name": "ipython",
        "version": 3
      },
      "file_extension": ".py",
      "mimetype": "text/x-python",
      "name": "python",
      "nbconvert_exporter": "python",
      "pygments_lexer": "ipython3",
      "version": "3.11.5"
    },
    "colab": {
      "provenance": []
    }
  },
  "nbformat": 4,
  "nbformat_minor": 5
}