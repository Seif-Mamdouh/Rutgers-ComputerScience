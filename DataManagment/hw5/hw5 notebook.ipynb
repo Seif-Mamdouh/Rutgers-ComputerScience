{
 "cells": [
  {
   "cell_type": "markdown",
   "id": "c71cb2cf",
   "metadata": {
    "deletable": false,
    "editable": false,
    "tags": []
   },
   "source": [
    "### CS 210: Data Management for Data Science\n",
    "#### Fall 2023"
   ]
  },
  {
   "cell_type": "markdown",
   "id": "1b06817d",
   "metadata": {
    "deletable": false,
    "editable": false,
    "tags": []
   },
   "source": [
    "Before you turn this problem in, make sure everything runs as expected. First, **restart the kernel** (in the menubar, select Kernel$\\rightarrow$Restart) and then **run all cells** (in the menubar, select Cell$\\rightarrow$Run All).\n",
    "\n",
    "Make sure you fill in any place that says `YOUR CODE HERE` or \"YOUR ANSWER HERE\", as well as your name and collaborators below:"
   ]
  },
  {
   "cell_type": "code",
   "execution_count": null,
   "id": "5937c45e",
   "metadata": {
    "deletable": false,
    "tags": []
   },
   "outputs": [],
   "source": [
    "NAME = \"\"\n",
    "COLLABORATORS = \"\""
   ]
  },
  {
   "cell_type": "markdown",
   "id": "7db9f90b",
   "metadata": {},
   "source": [
    "---"
   ]
  },
  {
   "cell_type": "markdown",
   "id": "f2a5b92f",
   "metadata": {},
   "source": [
    "## Homework 5: <font color=\"blue\">SQL Database</font>"
   ]
  },
  {
   "cell_type": "markdown",
   "id": "6a6f0232",
   "metadata": {},
   "source": [
    "<p>Due Wednesday, December 13 at 11 PM in Codebench</font>\n",
    "<p><font color=\"red\">No Late Submissions Accepted</font></p>\n",
    "</h3>\n",
    "</center>\n",
    "You may work on the assignment in pairs that you choose.\n",
    "<hr>"
   ]
  },
  {
   "cell_type": "markdown",
   "id": "e895c7c5",
   "metadata": {},
   "source": [
    "### Overview\n",
    "\n",
    "<p>Implement a Music relational (SQL) database, of the kind that might be used\n",
    "by Spotify or Amazon Music. The database has artists, albums, songs, users, \n",
    "playlists, and ratings.\n",
    "\n",
    "<p>You are allowed up to 3 submissions. <font color=\"red\">Only the last submission will be graded.</font>\n",
    "   \n",
    "You may populate the tables with data for your own testing, but we \n",
    "<b>do not</b> want you to turn in any of the data, or the results\n",
    "of any of your queries. We are only asking for the\n",
    "document with the required SQL statements for table creation and queries.\n",
    "\n"
   ]
  },
  {
   "cell_type": "markdown",
   "id": "5739f4d2",
   "metadata": {},
   "source": [
    "---"
   ]
  },
  {
   "cell_type": "markdown",
   "id": "7e690829",
   "metadata": {},
   "source": [
    "<h3>Part I: Database Schema (50 pts)</h3>\n",
    "\n",
    "<p>You are given the following description of the entities that need to be\n",
    "stored in the database. Your task is to design a database schema (set of tables)\n",
    "to store these entities. \n",
    "\n",
    "<p><font color=\"red\">Your schema must be minimally redundant in storing \n",
    "data.</font>\n",
    "In other words, you should build a set of tables that minimize the repetition\n",
    "of data, by using foreign keys - credit will be in accordance with this.\n",
    "\n",
    "<ul>\n",
    "<p><li><b>Artist</b>: An individual or a group/band, uniquely identified by\n",
    "their name.\n",
    "An artist might release albums, as well as songs that are not in albums (singles).\n",
    "\n",
    "<p><li><b>Song</b>: A song has a title and is performed by an artist, either as\n",
    "a part of an album, or as a single that's not part of an album. Every song\n",
    "in an album has the release date of the album, but a single song has its\n",
    "own release date.\n",
    "\n",
    "A song title is\n",
    "unique to an artist (the same artist records a song exactly once), but the\n",
    "title may be shared by multiple artists (i.e. covers).\n",
    "\n",
    "<p>A song belongs to one or more genres. For example, a song could\n",
    "be in a single genre, such as <em>R &amp; B</em>, or could be in multiple\n",
    "genres such as <em>Pop</em> and <em>Rock</em>. Genres are pre-defined, and every\n",
    "song must be in at least one genre.\n",
    "Also, songs in an album need not all be in the same genre.\n",
    "\n",
    "<p><li><b>Album</b>: An album is a collection of songs released by an artist, on a \n",
    "certain date. For example, the album <em>Achtung Baby</em> was made by \n",
    "the artist (band) <em>U2</em>, released on <em>November 19, 1991</em>.\n",
    "An album name is not unique, but the combination of album\n",
    "name and artist name is unique.\n",
    "\n",
    "<p><li><b>User</b>: A user is uniquely identified by their <em>username</em>. \n",
    "A user can optionally have one or more playlists, and optionally have ratings\n",
    "for songs, albums, or playlists.\n",
    "In other words, it's possible that a user has no playlists,\n",
    "and hasn't given any ratings.\n",
    "\n",
    "<p><li><b>Playlist</b>: A user can make any number of playlists of songs. \n",
    "Note: A playlist may not include an entire album, only individual songs.\n",
    "Each song is either from some album, or a single that's not in any album. \n",
    "\n",
    "<p>Every playlist has a title, and a date+time when it was created. A playlist\n",
    "may be modified any number of times after creation by adding or removing\n",
    "songs, but the title and date+time will not change.\n",
    "\n",
    "<p>The title of a playlist is not unique since different users might create \n",
    "playlists with the same title. However, a user's playlists will have unique\n",
    "titles.\n",
    "\n",
    "<p><li><b>Rating</b>: A user could rate an album, a song (even if it's in an album), \n",
    "or a playlist. A rating is limited to 1,2,3,4, or 5 (numeric), and is made \n",
    "on a specific date. \n",
    "</ul>\n",
    "\n",
    "<p>Your database structure should have the most appropriate data type and size\n",
    "for each column in each table.\n",
    "\n",
    "<p>For size of data, think of a realistic online music service and imagine\n",
    "how many songs/artists/albums/playlists/users/ratings it might have to support.\n",
    "The idea is to use the least amount of storage space for each column that\n",
    "will be able to store the entire range of foreseeable values.\n",
    "\n",
    "<p>Make sure you define and specify all primary keys, foreign keys, unique\n",
    "valued columns or unique valued combination of columns, and null/non-null \n",
    "properties for columns.\n",
    "\n",
    "<p>Make sure that when you submit this notebook, \n",
    "it contains the <tt>create table</tt> \n",
    "statement for each of the tables you\n",
    "create in the database. If you don't have the full\n",
    "create statement for a table, you will not get credit for it.<br>\n",
    "\n",
    "<p><b>Note</b>: \n",
    "When you test your design in sqlite3, you might use <tt>alter table</tt> \n",
    "statements after the initial create. However, for the submission, you are\n",
    "required to rewrite the whole sequence as a single <tt>create table</tt>\n",
    "statement per table.\n",
    "\n"
   ]
  },
  {
   "cell_type": "code",
   "execution_count": 37,
   "id": "cfe2856e",
   "metadata": {
    "tags": []
   },
   "outputs": [
    {
     "data": {
      "text/plain": [
       "<sqlite3.Cursor at 0x7f84584da9c0>"
      ]
     },
     "execution_count": 37,
     "metadata": {},
     "output_type": "execute_result"
    }
   ],
   "source": [
    "import sqlite3\n",
    "\n",
    "conn = sqlite3.connect('music_database.db')\n",
    "cursor = conn.cursor()\n",
    "\n",
    "cursor.execute('''\n",
    "    DROP TABLE Artist\n",
    "''')\n",
    "cursor.execute('''\n",
    "    CREATE TABLE Artist (\n",
    "        artist_id INTEGER PRIMARY KEY,\n",
    "        name VARCHAR(255) UNIQUE NOT NULL\n",
    "    )\n",
    "''')\n",
    "\n",
    "cursor.execute('''\n",
    "    DROP TABLE Genre\n",
    "''')\n",
    "\n",
    "cursor.execute( ''' \n",
    "    CREATE TABLE Genre (\n",
    "        genre_id INTEGER PRIMARY KEY,\n",
    "        name VARCHAR(50) UNIQUE NOT NULL\n",
    "    )\n",
    "''')\n",
    "\n",
    "cursor.execute('''\n",
    "    DROP TABLE Song\n",
    "''')\n",
    "\n",
    "cursor.execute( ''' \n",
    "    CREATE TABLE Song (\n",
    "        song_id INTEGER PRIMARY KEY,\n",
    "        title VARCHAR(255) NOT NULL,\n",
    "        artist_id INTEGER,\n",
    "        release_date DATE,\n",
    "        is_single BOOLEAN DEFAULT FALSE,\n",
    "        FOREIGN KEY (artist_id) REFERENCES Artist(artist_id)\n",
    "    );\n",
    "''')\n",
    "\n",
    "cursor.execute('''\n",
    "    DROP TABLE SongGenres\n",
    "''')\n",
    "\n",
    "cursor.execute( ''' \n",
    "    CREATE TABLE SongGenres (\n",
    "        song_id INTEGER,\n",
    "        genre_id INTEGER,\n",
    "        PRIMARY KEY (song_id, genre_id),\n",
    "        FOREIGN KEY (song_id) REFERENCES Song(song_id),\n",
    "        FOREIGN KEY (genre_id) REFERENCES Genre(genre_id)\n",
    "    );\n",
    "''')\n",
    "\n",
    "cursor.execute('''\n",
    "    DROP TABLE Album\n",
    "''')\n",
    "\n",
    "cursor.execute( ''' \n",
    "    CREATE TABLE Album (\n",
    "        album_id INTEGER PRIMARY KEY,\n",
    "        name VARCHAR(255) NOT NULL,\n",
    "        artist_id INTEGER,\n",
    "        release_date DATE NOT NULL,\n",
    "        FOREIGN KEY (artist_id) REFERENCES Artist(artist_id)\n",
    "    );\n",
    "''')\n",
    "\n",
    "cursor.execute('''\n",
    "    DROP TABLE AlbumSongs\n",
    "''')\n",
    "\n",
    "cursor.execute( ''' \n",
    "    CREATE TABLE AlbumSongs (\n",
    "        album_id INTEGER,\n",
    "        song_id INTEGER,\n",
    "        PRIMARY KEY (album_id, song_id),\n",
    "        FOREIGN KEY (album_id) REFERENCES Album(album_id),\n",
    "        FOREIGN KEY (song_id) REFERENCES Song(song_id)\n",
    "    );\n",
    "\n",
    "''')\n",
    "\n",
    "cursor.execute('''\n",
    "    DROP TABLE User\n",
    "''')\n",
    "cursor.execute( ''' \n",
    "    CREATE TABLE User (\n",
    "        user_id INTEGER PRIMARY KEY,\n",
    "        username VARCHAR(50) UNIQUE NOT NULL\n",
    "    );\n",
    "\n",
    "''')\n",
    "\n",
    "cursor.execute('''\n",
    "    DROP TABLE Playlist\n",
    "''')\n",
    "cursor.execute( ''' \n",
    "    CREATE TABLE Playlist (\n",
    "        playlist_id INTEGER PRIMARY KEY,\n",
    "        title VARCHAR(255) NOT NULL,\n",
    "        user_id INTEGER,\n",
    "        created_at DATETIME NOT NULL,\n",
    "        FOREIGN KEY (user_id) REFERENCES User(user_id)\n",
    "    );\n",
    "''')\n",
    "\n",
    "cursor.execute('''\n",
    "    DROP TABLE PlaylistSongs\n",
    "''')\n",
    "\n",
    "cursor.execute( ''' \n",
    "    CREATE TABLE PlaylistSongs (\n",
    "        playlist_id INTEGER,\n",
    "        song_id INTEGER,\n",
    "        PRIMARY KEY (playlist_id, song_id),\n",
    "        FOREIGN KEY (playlist_id) REFERENCES Playlist(playlist_id),\n",
    "        FOREIGN KEY (song_id) REFERENCES Song(song_id)\n",
    "    );\n",
    "''')\n",
    "\n",
    "cursor.execute('''\n",
    "    DROP TABLE Rating\n",
    "''')\n",
    "cursor.execute( ''' \n",
    "    CREATE TABLE Rating (\n",
    "        rating_id INTEGER PRIMARY KEY,\n",
    "        user_id INTEGER,\n",
    "        target_id INTEGER,\n",
    "        target_type VARCHAR(20) NOT NULL, -- 'Album', 'Song', or 'Playlist'\n",
    "        rating_value INTEGER CHECK (rating_value >= 1 AND rating_value <= 5) NOT NULL,\n",
    "        rating_date DATE NOT NULL,\n",
    "        FOREIGN KEY (user_id) REFERENCES User(user_id),\n",
    "        CHECK (target_type IN ('Album', 'Song', 'Playlist'))\n",
    "    );\n",
    "''')"
   ]
  },
  {
   "cell_type": "markdown",
   "id": "bfb73b07",
   "metadata": {},
   "source": [
    "---"
   ]
  },
  {
   "cell_type": "markdown",
   "id": "7461efb7",
   "metadata": {},
   "source": [
    "### Part II: Queries (5 points each)\n",
    "\n",
    "<p>Every query must be written in a <font color=\"red\">single</font>\n",
    "SQL statement.\n",
    "So, for example, you can have nested or multiple SQLs for a query, \n",
    "provided you can write\n",
    "it all up with a single terminating semicolon in a SQL client session.\n",
    "No Python code other than to execute the queries and display the results. \n",
    "\n",
    "<p>For any of the queries:\n",
    "<ul>\n",
    "<li>If the result might require breaking ties, then\n",
    "<em>unless otherwise specified in the query</em>, \n",
    "let the ties be broken arbitrarily (you \n",
    "need not do anything explicit).\n",
    "<li>If the result has fewer than the required number of entities,\n",
    "report all of them.\n",
    "<li>For all queries that ask for 'top n' or 'most', the result must appear\n",
    "from highest ranked to lowest ranked.\n",
    "\n",
    "</ul>\n",
    "\n",
    "\n",
    "<p>Type the SQL queries in the cell following each problem description below. \n",
    "\n",
    "### Write queries for the following: "
   ]
  },
  {
   "cell_type": "markdown",
   "id": "eaae6144",
   "metadata": {},
   "source": [
    "#### 1. Which 3 genres are most represented in terms of number of songs in that genre?<p>\n",
    "The result must have two columns, named <tt>genre</tt> and \n",
    "<tt>number_of_songs</tt>.\n"
   ]
  },
  {
   "cell_type": "code",
   "execution_count": 39,
   "id": "0c380b58",
   "metadata": {},
   "outputs": [
    {
     "data": {
      "text/plain": [
       "[]"
      ]
     },
     "execution_count": 39,
     "metadata": {},
     "output_type": "execute_result"
    }
   ],
   "source": [
    "import sqlite3\n",
    "\n",
    "conn = sqlite3.connect('music_database.db')\n",
    "\n",
    "# Run the SQL query\n",
    "query = '''\n",
    "    SELECT G.name AS genre, COUNT(SG.song_id) AS number_of_songs\n",
    "    FROM Genre G\n",
    "    LEFT JOIN SongGenres SG ON G.genre_id = SG.genre_id\n",
    "    GROUP BY G.genre_id\n",
    "    ORDER BY number_of_songs DESC\n",
    "    LIMIT 3;\n",
    "'''\n",
    "\n",
    "result = conn.execute(query).fetchall()\n",
    "\n",
    "# Display the result\n",
    "result"
   ]
  },
  {
   "cell_type": "markdown",
   "id": "56cacdfd",
   "metadata": {},
   "source": [
    "#### 2. Find names of artists who have songs that are in albums as well as outside of albums (singles).<p>\n",
    "The result must have one column, named\n",
    "<tt>artist_name</tt>. "
   ]
  },
  {
   "cell_type": "code",
   "execution_count": 40,
   "id": "4a90044c",
   "metadata": {},
   "outputs": [
    {
     "data": {
      "text/plain": [
       "[]"
      ]
     },
     "execution_count": 40,
     "metadata": {},
     "output_type": "execute_result"
    }
   ],
   "source": [
    "import sqlite3\n",
    "\n",
    "conn = sqlite3.connect('music_database.db')\n",
    "\n",
    "# Run the SQL query\n",
    "query = '''\n",
    "    SELECT DISTINCT A.name AS artist_name\n",
    "    FROM Artist A\n",
    "    JOIN Song S ON A.artist_id = S.artist_id\n",
    "    WHERE S.is_single = FALSE\n",
    "       OR S.is_single IS NULL;\n",
    "'''\n",
    "\n",
    "result = conn.execute(query).fetchall()\n",
    "\n",
    "# Display the result\n",
    "result"
   ]
  },
  {
   "cell_type": "markdown",
   "id": "2d515bdc",
   "metadata": {},
   "source": [
    "#### 3. What were the top 10 albums (albums with highest average user rating) in the period 1990-1999? \n",
    "Break ties using alphabetical order of\n",
    "album names. (Period refers to the rating date, NOT the date of release).<p>\n",
    "The result must have two columns, named <tt>album_name</tt> and \n",
    "<tt>average_user_rating</tt>."
   ]
  },
  {
   "cell_type": "code",
   "execution_count": 41,
   "id": "aca08e63",
   "metadata": {},
   "outputs": [
    {
     "data": {
      "text/plain": [
       "[]"
      ]
     },
     "execution_count": 41,
     "metadata": {},
     "output_type": "execute_result"
    }
   ],
   "source": [
    "import sqlite3\n",
    "\n",
    "conn = sqlite3.connect('music_database.db')\n",
    "\n",
    "# Run the SQL query\n",
    "query = '''\n",
    "    SELECT A.name AS album_name, AVG(R.rating_value) AS average_user_rating\n",
    "    FROM Album A\n",
    "    JOIN Rating R ON A.album_id = R.target_id AND R.target_type = 'Album'\n",
    "    WHERE strftime('%Y', R.rating_date) BETWEEN '1990' AND '1999'\n",
    "    GROUP BY A.album_id, A.name\n",
    "    ORDER BY average_user_rating DESC, A.name\n",
    "    LIMIT 10;\n",
    "'''\n",
    "\n",
    "result = conn.execute(query).fetchall()\n",
    "\n",
    "# Display the result\n",
    "result\n"
   ]
  },
  {
   "cell_type": "markdown",
   "id": "7b09688c",
   "metadata": {},
   "source": [
    "#### 4. Which were the top 3 most rated genres\n",
    "(this is the number of ratings\n",
    "of songs in genres, not the actual rating scores) in the years 1991-1995?\n",
    "(Years refers to the rating date, NOT the date of release).<p>\n",
    "The result must have two columns, named <tt>genre_name</tt> and\n",
    "<tt>number_of_song_ratings</tt>. "
   ]
  },
  {
   "cell_type": "code",
   "execution_count": 42,
   "id": "14f348e8",
   "metadata": {},
   "outputs": [
    {
     "data": {
      "text/plain": [
       "[]"
      ]
     },
     "execution_count": 42,
     "metadata": {},
     "output_type": "execute_result"
    }
   ],
   "source": [
    "import sqlite3\n",
    "\n",
    "conn = sqlite3.connect('music_database.db')\n",
    "\n",
    "\n",
    "query = '''\n",
    "    SELECT G.name AS genre_name, COUNT(R.rating_id) AS number_of_song_ratings\n",
    "    FROM Genre G\n",
    "    JOIN SongGenres SG ON G.genre_id = SG.genre_id\n",
    "    JOIN Song S ON SG.song_id = S.song_id\n",
    "    LEFT JOIN Rating R ON S.song_id = R.target_id AND R.target_type = 'Song'\n",
    "    WHERE strftime('%Y', R.rating_date) BETWEEN '1991' AND '1995'\n",
    "    GROUP BY G.genre_id\n",
    "    ORDER BY number_of_song_ratings DESC\n",
    "    LIMIT 3;\n",
    "'''\n",
    "\n",
    "result = conn.execute(query).fetchall()\n",
    "\n",
    "# Display the result\n",
    "result\n"
   ]
  },
  {
   "cell_type": "markdown",
   "id": "731c5fbe",
   "metadata": {},
   "source": [
    "#### 5. Which users have a playlist that has an average rating of 4.0 or more?\n",
    "(This is the average of the ratings for the playlist.)\n",
    "A user may appear multiple times in the result if more than one of their\n",
    "playlists make the cut.<p>\n",
    "The result must 3 columns\n",
    "named <tt>username</tt>, <tt>playlist_title</tt>, <tt>average_playlist_rating</tt>\n"
   ]
  },
  {
   "cell_type": "code",
   "execution_count": 43,
   "id": "3d9de011",
   "metadata": {},
   "outputs": [
    {
     "data": {
      "text/plain": [
       "[]"
      ]
     },
     "execution_count": 43,
     "metadata": {},
     "output_type": "execute_result"
    }
   ],
   "source": [
    "import sqlite3\n",
    "\n",
    "conn = sqlite3.connect('music_database.db')\n",
    "\n",
    "# Run the SQL query\n",
    "query = '''\n",
    "    SELECT U.username, P.title AS playlist_title, AVG(R.rating_value) AS average_playlist_rating\n",
    "    FROM User U\n",
    "    JOIN Playlist P ON U.user_id = P.user_id\n",
    "    LEFT JOIN PlaylistSongs PS ON P.playlist_id = PS.playlist_id\n",
    "    LEFT JOIN Song S ON PS.song_id = S.song_id\n",
    "    LEFT JOIN Rating R ON S.song_id = R.target_id AND R.target_type = 'Song'\n",
    "    GROUP BY U.user_id, P.playlist_id\n",
    "    HAVING AVG(R.rating_value) >= 4.0;\n",
    "'''\n",
    "\n",
    "result = conn.execute(query).fetchall()\n",
    "\n",
    "# Display the result\n",
    "result\n"
   ]
  },
  {
   "cell_type": "markdown",
   "id": "2c7d4f8d",
   "metadata": {},
   "source": [
    "#### 6. Who are the top 5 users that have rated the most songs? \n",
    "This includes all song ratings only, not album or playlist ratings. \n",
    "The result must have 2 columns, named <tt>username</tt> and\n",
    "<tt>number_of_ratings</tt>. "
   ]
  },
  {
   "cell_type": "code",
   "execution_count": 44,
   "id": "a0a2f922",
   "metadata": {},
   "outputs": [
    {
     "data": {
      "text/plain": [
       "[]"
      ]
     },
     "execution_count": 44,
     "metadata": {},
     "output_type": "execute_result"
    }
   ],
   "source": [
    "import sqlite3\n",
    "\n",
    "conn = sqlite3.connect('music_database.db')\n",
    "\n",
    "# Run the SQL query\n",
    "query = '''\n",
    "    SELECT U.username, COUNT(R.rating_id) AS number_of_ratings\n",
    "    FROM User U\n",
    "    LEFT JOIN Rating R ON U.user_id = R.user_id AND R.target_type = 'Song'\n",
    "    GROUP BY U.user_id\n",
    "    ORDER BY number_of_ratings DESC\n",
    "    LIMIT 5;\n",
    "'''\n",
    "\n",
    "result = conn.execute(query).fetchall()\n",
    "\n",
    "# Display the result\n",
    "result\n"
   ]
  },
  {
   "cell_type": "markdown",
   "id": "d42c6cb0",
   "metadata": {},
   "source": [
    "#### 7. Find the top 10 most prolific artists (most songs) in the years 1990-2010. \n",
    "Count each song in an album individually. <p>\n",
    "The result must have 2 columns, named <tt>artist_name</tt> and\n",
    "<tt>number_of_songs</tt>. "
   ]
  },
  {
   "cell_type": "markdown",
   "id": "a04214a6-f58e-44d5-b660-6122085ef06f",
   "metadata": {},
   "source": [
    "#### 7. Find the top 10 most prolific artists (most songs) in the years 1990-2010. \n",
    "Count each song in an album individually. <p>\n",
    "The result must have 2 columns, named <tt>artist_name</tt> and\n",
    "<tt>number_of_songs</tt>. "
   ]
  },
  {
   "cell_type": "code",
   "execution_count": 45,
   "id": "ecce990a",
   "metadata": {},
   "outputs": [
    {
     "data": {
      "text/plain": [
       "[]"
      ]
     },
     "execution_count": 45,
     "metadata": {},
     "output_type": "execute_result"
    }
   ],
   "source": [
    "import sqlite3\n",
    "\n",
    "# Connect to your SQLite database (replace 'music_database.db' with your actual database file)\n",
    "conn = sqlite3.connect('music_database.db')\n",
    "\n",
    "# Run the SQL query\n",
    "query = '''\n",
    "    SELECT A.name AS artist_name, COUNT(S.song_id) AS number_of_songs\n",
    "    FROM Artist A\n",
    "    JOIN Album AL ON A.artist_id = AL.artist_id\n",
    "    JOIN AlbumSongs ALS ON AL.album_id = ALS.album_id\n",
    "    JOIN Song S ON ALS.song_id = S.song_id\n",
    "    WHERE strftime('%Y', AL.release_date) BETWEEN '1990' AND '2010'\n",
    "    GROUP BY A.artist_id\n",
    "    ORDER BY number_of_songs DESC\n",
    "    LIMIT 10;\n",
    "'''\n",
    "\n",
    "result = conn.execute(query).fetchall()\n",
    "\n",
    "# Display the result\n",
    "result\n"
   ]
  },
  {
   "cell_type": "markdown",
   "id": "ed9d0001",
   "metadata": {},
   "source": [
    "#### 8. Find the top 10 songs that are in the most playlists. \n",
    "Break ties in alphabetical order of song titles.<p>\n",
    "The result must have a 2 columns, named <tt>song_title</tt>\n",
    "and <tt>number_of_playlists</tt>. "
   ]
  },
  {
   "cell_type": "code",
   "execution_count": 46,
   "id": "2ae0d3ec",
   "metadata": {},
   "outputs": [
    {
     "data": {
      "text/plain": [
       "[]"
      ]
     },
     "execution_count": 46,
     "metadata": {},
     "output_type": "execute_result"
    }
   ],
   "source": [
    "import sqlite3\n",
    "\n",
    "# Connect to your SQLite database (replace 'music_database.db' with your actual database file)\n",
    "conn = sqlite3.connect('music_database.db')\n",
    "\n",
    "# Run the SQL query\n",
    "query = '''\n",
    "    SELECT S.title AS song_title, COUNT(PS.playlist_id) AS number_of_playlists\n",
    "    FROM Song S\n",
    "    LEFT JOIN PlaylistSongs PS ON S.song_id = PS.song_id\n",
    "    GROUP BY S.song_id\n",
    "    ORDER BY number_of_playlists DESC, S.title\n",
    "    LIMIT 10;\n",
    "'''\n",
    "\n",
    "result = conn.execute(query).fetchall()\n",
    "\n",
    "# Display the result\n",
    "result\n"
   ]
  },
  {
   "cell_type": "markdown",
   "id": "e343934b",
   "metadata": {},
   "source": [
    "#### 9. Find the top 20 most rated singles. \n",
    "(songs that are not part of an album).\n",
    "Most rated refers to number of ratings, not actual rating scores.\n",
    "The result must have 3 columns, named <tt>song_title</tt>,\n",
    "<tt>artist_name</tt>, <tt>number_of_ratings</tt>. "
   ]
  },
  {
   "cell_type": "code",
   "execution_count": 47,
   "id": "e995443d",
   "metadata": {},
   "outputs": [
    {
     "data": {
      "text/plain": [
       "[]"
      ]
     },
     "execution_count": 47,
     "metadata": {},
     "output_type": "execute_result"
    }
   ],
   "source": [
    "import sqlite3\n",
    "\n",
    "# Connect to your SQLite database (replace 'music_database.db' with your actual database file)\n",
    "conn = sqlite3.connect('music_database.db')\n",
    "\n",
    "# Run the SQL query\n",
    "query = '''\n",
    "    SELECT S.title AS song_title, A.name AS artist_name, COUNT(R.rating_id) AS number_of_ratings\n",
    "    FROM Song S\n",
    "    JOIN Artist A ON S.artist_id = A.artist_id\n",
    "    LEFT JOIN Rating R ON S.song_id = R.target_id AND R.target_type = 'Song'\n",
    "    WHERE S.is_single = TRUE\n",
    "    GROUP BY S.song_id\n",
    "    ORDER BY number_of_ratings DESC\n",
    "    LIMIT 20;\n",
    "'''\n",
    "\n",
    "result = conn.execute(query).fetchall()\n",
    "\n",
    "# Display the result\n",
    "result\n"
   ]
  },
  {
   "cell_type": "markdown",
   "id": "9ac62aac",
   "metadata": {},
   "source": [
    "#### 10. Find all artists who stopped making music after 1993.<p>\n",
    "Include all artists that have no songs or albums with a release date \n",
    "after 1993. \n",
    "The result should be a single column named <tt>artist_title</tt>. "
   ]
  },
  {
   "cell_type": "code",
   "execution_count": 48,
   "id": "c530e67a",
   "metadata": {},
   "outputs": [
    {
     "data": {
      "text/plain": [
       "[]"
      ]
     },
     "execution_count": 48,
     "metadata": {},
     "output_type": "execute_result"
    }
   ],
   "source": [
    "import sqlite3\n",
    "\n",
    "# Connect to your SQLite database (replace 'music_database.db' with your actual database file)\n",
    "conn = sqlite3.connect('music_database.db')\n",
    "\n",
    "# Run the SQL query\n",
    "query = '''\n",
    "    SELECT DISTINCT A.name AS artist_name\n",
    "    FROM Artist A\n",
    "    LEFT JOIN Album AL ON A.artist_id = AL.artist_id\n",
    "    LEFT JOIN Song S ON A.artist_id = S.artist_id\n",
    "    WHERE COALESCE(AL.release_date, S.release_date, '1993-01-01') <= '1993-12-31';\n",
    "'''\n",
    "\n",
    "result = conn.execute(query).fetchall()\n",
    "\n",
    "# Display the result\n",
    "result\n"
   ]
  },
  {
   "cell_type": "code",
   "execution_count": null,
   "id": "0035e49e-d1ed-4961-bdb6-4c2ced44da07",
   "metadata": {},
   "outputs": [],
   "source": []
  }
 ],
 "metadata": {
  "kernelspec": {
   "display_name": "Python 3 (ipykernel)",
   "language": "python",
   "name": "python3"
  },
  "language_info": {
   "codemirror_mode": {
    "name": "ipython",
    "version": 3
   },
   "file_extension": ".py",
   "mimetype": "text/x-python",
   "name": "python",
   "nbconvert_exporter": "python",
   "pygments_lexer": "ipython3",
   "version": "3.11.3"
  }
 },
 "nbformat": 4,
 "nbformat_minor": 5
}
