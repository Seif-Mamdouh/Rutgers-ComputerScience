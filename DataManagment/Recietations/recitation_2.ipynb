{
 "cells": [
  {
   "cell_type": "markdown",
   "id": "73f3fd2c-a906-4fc5-895f-42917d26ed64",
   "metadata": {},
   "source": [
    "### Recitation 2\n",
    "\n",
    "Welcome back! This recitation will cover the following topics:\n",
    "- Writing python functions\n",
    "- Working with arguments in python\n",
    "- Popular string functions\n",
    "- Recursion in python\n",
    "- Lambda functions"
   ]
  },
  {
   "cell_type": "markdown",
   "id": "1a551404-47c9-4443-b81e-9702746edbd4",
   "metadata": {},
   "source": [
    "### Problem 1: Age Verification\n",
    "\n",
    "You just got hired by Meta, congrats on your new job! Your first task is to write a function called `check_age()` that given the birthday of the user, returns a boolean indicating if they are over 25 or not. The birthday of the user is entered in the following format `mm-dd-yyyy`, if the format is incorrect your function needs to raise a `ValueError`. To get the current date, follow the directions here: https://www.geeksforgeeks.org/get-current-date-using-python/... or hardcode it if you're feeling lazy.\n",
    "\n",
    "**Easy**: First solve the problem by just looking at the year and subtracting the given year from the current one, this solution is given in the answer below\n",
    "\n",
    "**Hard**: Someone who is 25 years old is approximately 9131 days old, check if the difference between the current date and the given date is that many days, this problem is to be solved as a challenge by the students, you must take into consideration leap years as well as difference in days in a month. Inspired by: https://leetcode.com/problems/number-of-days-between-two-dates/description/"
   ]
  },
  {
   "cell_type": "code",
   "execution_count": null,
   "id": "455a9240",
   "metadata": {},
   "outputs": [
    {
     "ename": "AssertionError",
     "evalue": "",
     "output_type": "error",
     "traceback": [
      "\u001b[0;31m---------------------------------------------------------------------------\u001b[0m",
      "\u001b[0;31mAssertionError\u001b[0m                            Traceback (most recent call last)",
      "\u001b[1;32m/Users/seifmamdouh/Dropbox/My Mac (seifs-air.lan)/Documents/RU/DataManagment/Recietations/recitation_2.ipynb Cell 3\u001b[0m line \u001b[0;36m1\n\u001b[1;32m     <a href='vscode-notebook-cell:/Users/seifmamdouh/Dropbox/My%20Mac%20%28seifs-air.lan%29/Documents/RU/DataManagment/Recietations/recitation_2.ipynb#W2sZmlsZQ%3D%3D?line=11'>12</a>\u001b[0m     \u001b[39mreturn\u001b[39;00m (current_yr \u001b[39m-\u001b[39m \u001b[39m25\u001b[39m) \u001b[39m>\u001b[39m user_yr\n\u001b[1;32m     <a href='vscode-notebook-cell:/Users/seifmamdouh/Dropbox/My%20Mac%20%28seifs-air.lan%29/Documents/RU/DataManagment/Recietations/recitation_2.ipynb#W2sZmlsZQ%3D%3D?line=13'>14</a>\u001b[0m \u001b[39m### Code ends here\u001b[39;00m\n\u001b[0;32m---> <a href='vscode-notebook-cell:/Users/seifmamdouh/Dropbox/My%20Mac%20%28seifs-air.lan%29/Documents/RU/DataManagment/Recietations/recitation_2.ipynb#W2sZmlsZQ%3D%3D?line=14'>15</a>\u001b[0m \u001b[39massert\u001b[39;00m(check_age(\u001b[39m'\u001b[39m\u001b[39m09-23-2000\u001b[39m\u001b[39m'\u001b[39m) \u001b[39m==\u001b[39m \u001b[39mTrue\u001b[39;00m)\n\u001b[1;32m     <a href='vscode-notebook-cell:/Users/seifmamdouh/Dropbox/My%20Mac%20%28seifs-air.lan%29/Documents/RU/DataManagment/Recietations/recitation_2.ipynb#W2sZmlsZQ%3D%3D?line=15'>16</a>\u001b[0m \u001b[39massert\u001b[39;00m(check_age(\u001b[39m'\u001b[39m\u001b[39m03-06-1995\u001b[39m\u001b[39m'\u001b[39m) \u001b[39m==\u001b[39m \u001b[39mFalse\u001b[39;00m)\n",
      "\u001b[0;31mAssertionError\u001b[0m: "
     ]
    }
   ],
   "source": [
    "### Code starts here\n",
    "from datetime import datetime\n",
    "\n",
    "def check_age(user_age):\n",
    "    try:\n",
    "        datetime.strptime(user_age, \"%m-%d-%Y\")\n",
    "    except:\n",
    "        raise ValueError\n",
    "    # need convert 2000 into a int num\n",
    "    user_yr = int(user_age.split(\"-\")[2])\n",
    "    current_yr = datetime.now().year\n",
    "    return (current_yr - 25) > user_yr\n",
    "        \n",
    "### Code ends here\n",
    "assert(check_age('09-23-2000') == True)\n",
    "assert(check_age('03-06-1995') == False)"
   ]
  },
  {
   "cell_type": "markdown",
   "id": "0d55b5b8",
   "metadata": {},
   "source": [
    "#### Answer\n",
    "\n",
    "```python\n",
    "from datetime import datetime\n",
    "\n",
    "def check_age(user_age: str):\n",
    "\n",
    "    age_info = user_age.split('-')\n",
    "    if len(age_info) != 3:\n",
    "        raise ValueError\n",
    "    \n",
    "    user_year = int(age_info[2])\n",
    "    curr_year = datetime.now().year\n",
    "\n",
    "    return (curr_year - 25) > user_year\n",
    "```"
   ]
  },
  {
   "cell_type": "markdown",
   "id": "266e8f68",
   "metadata": {},
   "source": [
    "#### Problem 2: Playlist Deduplicator\n",
    "\n",
    "Don't you just hate having duplicate songs in your Spotify playlists :\\( Ugh, if only someone could implement a deduplicator where given a list of songs in the playlist the function returns a new list without duplicates... Maybe they can call the function `playlist_dedup()` and if the argument is not a list of strings throw a `ValueError` 💡! \n",
    "\n",
    "**Note:** The original order must be preserved, the list should be in the same order as before but just without the duplicated songs. The first duplicate instance of the song is the one to be removed, for example below the song \"Alice\" is repeated twice, so the second instance is removed. If \"Alice\" was repeated more times then those would be removed too.\n",
    "\n",
    "**Hard**: To make the problem tougher, students are encouraged to write a song class which has values for the artist, name, duration, and other attributes, then build an equals function into the class in order to do a more thorough comparison of songs rather than just comparing by song names.\n",
    "\n",
    "**Even Harder**: Try to cut down on the time complexity as much as possible, maybe sorting the playlist first can help you out?\n",
    "\n",
    "<img src=\"https://media.tenor.com/kKbgCUWb9NIAAAAM/spotify.gif\" alt=\"meme\" width=\"300\"/>"
   ]
  },
  {
   "cell_type": "code",
   "execution_count": 6,
   "id": "0bada18a",
   "metadata": {},
   "outputs": [
    {
     "ename": "NameError",
     "evalue": "name 'seen_song' is not defined",
     "output_type": "error",
     "traceback": [
      "\u001b[0;31m---------------------------------------------------------------------------\u001b[0m",
      "\u001b[0;31mNameError\u001b[0m                                 Traceback (most recent call last)",
      "\u001b[1;32m/Users/seifmamdouh/Dropbox/My Mac (seifs-air.lan)/Documents/RU/DataManagment/Recietations/recitation_2.ipynb Cell 6\u001b[0m line \u001b[0;36m2\n\u001b[1;32m     <a href='vscode-notebook-cell:/Users/seifmamdouh/Dropbox/My%20Mac%20%28seifs-air.lan%29/Documents/RU/DataManagment/Recietations/recitation_2.ipynb#W5sZmlsZQ%3D%3D?line=19'>20</a>\u001b[0m input_1 \u001b[39m=\u001b[39m [\u001b[39m'\u001b[39m\u001b[39mLife is a Highway\u001b[39m\u001b[39m'\u001b[39m, \u001b[39m\"\u001b[39m\u001b[39mThat\u001b[39m\u001b[39m'\u001b[39m\u001b[39ms How You Know - From Enchanted\u001b[39m\u001b[39m\"\u001b[39m, \u001b[39m\"\u001b[39m\u001b[39mAlice\u001b[39m\u001b[39m\"\u001b[39m, \u001b[39m\"\u001b[39m\u001b[39mCan\u001b[39m\u001b[39m'\u001b[39m\u001b[39mt Get You out of My Head\u001b[39m\u001b[39m\"\u001b[39m, \u001b[39m\"\u001b[39m\u001b[39mYou Give Love A Bad Name\u001b[39m\u001b[39m\"\u001b[39m, \u001b[39m\"\u001b[39m\u001b[39mAlice\u001b[39m\u001b[39m\"\u001b[39m]\n\u001b[1;32m     <a href='vscode-notebook-cell:/Users/seifmamdouh/Dropbox/My%20Mac%20%28seifs-air.lan%29/Documents/RU/DataManagment/Recietations/recitation_2.ipynb#W5sZmlsZQ%3D%3D?line=20'>21</a>\u001b[0m answer_1 \u001b[39m=\u001b[39m [\u001b[39m'\u001b[39m\u001b[39mLife is a Highway\u001b[39m\u001b[39m'\u001b[39m, \u001b[39m\"\u001b[39m\u001b[39mThat\u001b[39m\u001b[39m'\u001b[39m\u001b[39ms How You Know - From Enchanted\u001b[39m\u001b[39m\"\u001b[39m, \u001b[39m\"\u001b[39m\u001b[39mAlice\u001b[39m\u001b[39m\"\u001b[39m, \u001b[39m\"\u001b[39m\u001b[39mCan\u001b[39m\u001b[39m'\u001b[39m\u001b[39mt Get You out of My Head\u001b[39m\u001b[39m\"\u001b[39m, \u001b[39m\"\u001b[39m\u001b[39mYou Give Love A Bad Name\u001b[39m\u001b[39m\"\u001b[39m]\n\u001b[0;32m---> <a href='vscode-notebook-cell:/Users/seifmamdouh/Dropbox/My%20Mac%20%28seifs-air.lan%29/Documents/RU/DataManagment/Recietations/recitation_2.ipynb#W5sZmlsZQ%3D%3D?line=21'>22</a>\u001b[0m res_1 \u001b[39m=\u001b[39m playlist_dedup(input_1)\n\u001b[1;32m     <a href='vscode-notebook-cell:/Users/seifmamdouh/Dropbox/My%20Mac%20%28seifs-air.lan%29/Documents/RU/DataManagment/Recietations/recitation_2.ipynb#W5sZmlsZQ%3D%3D?line=22'>23</a>\u001b[0m \u001b[39mfor\u001b[39;00m i, s \u001b[39min\u001b[39;00m \u001b[39menumerate\u001b[39m(res_1):\n\u001b[1;32m     <a href='vscode-notebook-cell:/Users/seifmamdouh/Dropbox/My%20Mac%20%28seifs-air.lan%29/Documents/RU/DataManagment/Recietations/recitation_2.ipynb#W5sZmlsZQ%3D%3D?line=23'>24</a>\u001b[0m     \u001b[39massert\u001b[39;00m(s \u001b[39m==\u001b[39m answer_1[i])\n",
      "\u001b[1;32m/Users/seifmamdouh/Dropbox/My Mac (seifs-air.lan)/Documents/RU/DataManagment/Recietations/recitation_2.ipynb Cell 6\u001b[0m line \u001b[0;36m1\n\u001b[1;32m     <a href='vscode-notebook-cell:/Users/seifmamdouh/Dropbox/My%20Mac%20%28seifs-air.lan%29/Documents/RU/DataManagment/Recietations/recitation_2.ipynb#W5sZmlsZQ%3D%3D?line=9'>10</a>\u001b[0m \u001b[39mfor\u001b[39;00m song \u001b[39min\u001b[39;00m input_list:\n\u001b[1;32m     <a href='vscode-notebook-cell:/Users/seifmamdouh/Dropbox/My%20Mac%20%28seifs-air.lan%29/Documents/RU/DataManagment/Recietations/recitation_2.ipynb#W5sZmlsZQ%3D%3D?line=10'>11</a>\u001b[0m     \u001b[39mif\u001b[39;00m song \u001b[39mnot\u001b[39;00m \u001b[39min\u001b[39;00m seen_songs:\n\u001b[0;32m---> <a href='vscode-notebook-cell:/Users/seifmamdouh/Dropbox/My%20Mac%20%28seifs-air.lan%29/Documents/RU/DataManagment/Recietations/recitation_2.ipynb#W5sZmlsZQ%3D%3D?line=11'>12</a>\u001b[0m         seen_song\u001b[39m.\u001b[39madd(song)\n\u001b[1;32m     <a href='vscode-notebook-cell:/Users/seifmamdouh/Dropbox/My%20Mac%20%28seifs-air.lan%29/Documents/RU/DataManagment/Recietations/recitation_2.ipynb#W5sZmlsZQ%3D%3D?line=12'>13</a>\u001b[0m         unique_songs\u001b[39m.\u001b[39mappend(song)\n\u001b[1;32m     <a href='vscode-notebook-cell:/Users/seifmamdouh/Dropbox/My%20Mac%20%28seifs-air.lan%29/Documents/RU/DataManagment/Recietations/recitation_2.ipynb#W5sZmlsZQ%3D%3D?line=14'>15</a>\u001b[0m \u001b[39mreturn\u001b[39;00m unique_songs\n",
      "\u001b[0;31mNameError\u001b[0m: name 'seen_song' is not defined"
     ]
    }
   ],
   "source": [
    "### Code starts here\n",
    "\n",
    "def playlist_dedup(input_list):\n",
    "    if not isinstance(input_list, list):\n",
    "        raise ValueError(\"Input provided is not a list\")\n",
    "    \n",
    "    unique_songs = []\n",
    "    seen_songs = set()\n",
    "    \n",
    "    for song in input_list:\n",
    "        if song not in seen_songs:\n",
    "            seen_song.add(song)\n",
    "            unique_songs.append(song)\n",
    "        \n",
    "    return unique_songs\n",
    "        \n",
    "\n",
    "### Code ends here\n",
    "\n",
    "input_1 = ['Life is a Highway', \"That's How You Know - From Enchanted\", \"Alice\", \"Can't Get You out of My Head\", \"You Give Love A Bad Name\", \"Alice\"]\n",
    "answer_1 = ['Life is a Highway', \"That's How You Know - From Enchanted\", \"Alice\", \"Can't Get You out of My Head\", \"You Give Love A Bad Name\"]\n",
    "res_1 = playlist_dedup(input_1)\n",
    "for i, s in enumerate(res_1):\n",
    "    assert(s == answer_1[i])"
   ]
  },
  {
   "cell_type": "markdown",
   "id": "a3aa170a",
   "metadata": {},
   "source": [
    "#### Answer\n",
    "\n",
    "```python\n",
    "def playlist_dedup(playlist):\n",
    "    if not isinstance(playlist, list):\n",
    "        raise ValueError(\"Input must be a list of strings\")\n",
    "    \n",
    "    unique_songs = []\n",
    "    seen_songs = set()\n",
    "\n",
    "    for song in playlist:\n",
    "        if song not in seen_songs:\n",
    "            seen_songs.add(song)\n",
    "            unique_songs.append(song)\n",
    "\n",
    "    return unique_songs\n",
    "```"
   ]
  },
  {
   "cell_type": "markdown",
   "id": "67a7ff82",
   "metadata": {},
   "source": [
    "#### Problem 3: Course Finder\n",
    "\n",
    "Rutgers needs your help! Administrators need a Python expert to categorize course numbers across subjects. The course number for a subject is identified as the **last three digits** of a course ID. For example the course number for Math123 is 123. Given a list of course ids, return the course numbers for the courses as a list.\n",
    "\n",
    "Once you have done this, rewrite your function as a lambda function instead... and then use list comprehension"
   ]
  },
  {
   "cell_type": "code",
   "execution_count": null,
   "id": "e85660f1",
   "metadata": {},
   "outputs": [],
   "source": [
    "# index - -6-5-4-3-2-1\n",
    "# string - math250\n",
    "# index -  0123456"
   ]
  },
  {
   "cell_type": "code",
   "execution_count": 10,
   "id": "ed2f9f60",
   "metadata": {},
   "outputs": [
    {
     "ename": "TypeError",
     "evalue": "map() must have at least two arguments.",
     "output_type": "error",
     "traceback": [
      "\u001b[0;31m---------------------------------------------------------------------------\u001b[0m",
      "\u001b[0;31mTypeError\u001b[0m                                 Traceback (most recent call last)",
      "\u001b[1;32m/Users/seifmamdouh/Dropbox/My Mac (seifs-air.lan)/Documents/RU/DataManagment/Recietations/recitation_2.ipynb Cell 10\u001b[0m line \u001b[0;36m1\n\u001b[1;32m     <a href='vscode-notebook-cell:/Users/seifmamdouh/Dropbox/My%20Mac%20%28seifs-air.lan%29/Documents/RU/DataManagment/Recietations/recitation_2.ipynb#X11sZmlsZQ%3D%3D?line=10'>11</a>\u001b[0m         course_nums\u001b[39m.\u001b[39mappend(\u001b[39mint\u001b[39m(course[\u001b[39m-\u001b[39m\u001b[39m3\u001b[39m:]))\n\u001b[1;32m     <a href='vscode-notebook-cell:/Users/seifmamdouh/Dropbox/My%20Mac%20%28seifs-air.lan%29/Documents/RU/DataManagment/Recietations/recitation_2.ipynb#X11sZmlsZQ%3D%3D?line=12'>13</a>\u001b[0m     \u001b[39mreturn\u001b[39;00m course_nums\n\u001b[0;32m---> <a href='vscode-notebook-cell:/Users/seifmamdouh/Dropbox/My%20Mac%20%28seifs-air.lan%29/Documents/RU/DataManagment/Recietations/recitation_2.ipynb#X11sZmlsZQ%3D%3D?line=15'>16</a>\u001b[0m course_numbers_lambda \u001b[39m=\u001b[39m \u001b[39mlist\u001b[39m(\u001b[39mmap\u001b[39;49m(\u001b[39mlambda\u001b[39;49;00m x: \u001b[39mint\u001b[39;49m[\u001b[39m-\u001b[39;49m\u001b[39m3\u001b[39;49m:]))\n\u001b[1;32m     <a href='vscode-notebook-cell:/Users/seifmamdouh/Dropbox/My%20Mac%20%28seifs-air.lan%29/Documents/RU/DataManagment/Recietations/recitation_2.ipynb#X11sZmlsZQ%3D%3D?line=17'>18</a>\u001b[0m course_numbers_listcomp \u001b[39m=\u001b[39m [\u001b[39mint\u001b[39m(course[\u001b[39m-\u001b[39m\u001b[39m3\u001b[39m:]) \u001b[39mfor\u001b[39;00m course \u001b[39min\u001b[39;00m course_nums]\n\u001b[1;32m     <a href='vscode-notebook-cell:/Users/seifmamdouh/Dropbox/My%20Mac%20%28seifs-air.lan%29/Documents/RU/DataManagment/Recietations/recitation_2.ipynb#X11sZmlsZQ%3D%3D?line=19'>20</a>\u001b[0m \u001b[39m### Code ends here\u001b[39;00m\n",
      "\u001b[0;31mTypeError\u001b[0m: map() must have at least two arguments."
     ]
    }
   ],
   "source": [
    "courses = ['math250','cs210','cs344','phy313']\n",
    "\n",
    "### Code starts here\n",
    "# COURSE FINDER FUNCTION GOES HERE\n",
    "\n",
    "def course_finder(course_list):\n",
    "    \n",
    "    course_nums = []\n",
    "    \n",
    "    for course in course_nums:\n",
    "        course_nums.append(int(course[-3:]))\n",
    "    \n",
    "    return course_nums\n",
    "        \n",
    "\n",
    "course_numbers_lambda = list(map(lambda x: int[-3:]))\n",
    "\n",
    "course_numbers_listcomp = [int(course[-3:]) for course in course_nums]\n",
    "\n",
    "### Code ends here\n",
    "\n",
    "answer = [250, 210, 344, 313]\n",
    "res_func = course_finder(courses)\n",
    "for i, s in enumerate(answer):\n",
    "    assert(s == res_func[i])\n",
    "    assert(s == course_numbers_lambda[i])\n",
    "    assert(s == course_numbers_listcomp[i])"
   ]
  },
  {
   "cell_type": "markdown",
   "id": "032c269c",
   "metadata": {},
   "source": [
    "#### Answer\n",
    "\n",
    "```python\n",
    "def course_finder(courses):\n",
    "    course_nums = []\n",
    "    for course in courses:\n",
    "        course_nums.append(int(course[-3:]))\n",
    "    return course_nums\n",
    "\n",
    "course_numbers_lambda = list(map(lambda x: int(x[-3:]), courses))\n",
    "course_numbers_listcomp = [int(course[-3:]) for course in courses]\n",
    "```"
   ]
  },
  {
   "cell_type": "markdown",
   "id": "4070ceb3",
   "metadata": {},
   "source": [
    "#### Problem 4: Practicing Lists\n",
    "\n",
    "Complete the functions to pass the assert statements"
   ]
  },
  {
   "cell_type": "code",
   "execution_count": null,
   "id": "11deef39",
   "metadata": {},
   "outputs": [],
   "source": [
    "xx = [1,2,3]\n",
    "yy = [4,5,6,7]\n",
    "mylst = [5,4,-3,6,1,-7,3,8]\n",
    "clst = ['a','b','a','c','d', 'c', 'a','b','f', 'c']\n",
    "\n",
    "def test_concatenate():\n",
    "    expected_value = # combine the xx and yy lists above (any three solutions acceptable)\n",
    "    return expected_value\n",
    "\n",
    "answer = [1, 2, 3, 4, 5, 6, 7]\n",
    "expected_value = test_concatenate()\n",
    "for i, a in enumerate(answer):\n",
    "    assert(a == expected_value[i])\n",
    "\n",
    "def test_unpack():\n",
    "    # use the unpack operator to get the first and last items in mylst, the rest stay as a list\n",
    "    return first, middle, last\n",
    "\n",
    "expected_value = test_unpack()\n",
    "assert(expected_value[0] == 5)\n",
    "assert(expected_value[2] == 8)\n",
    "\n",
    "def test_num():\n",
    "    expected_value = # find the number of c characters there are in clst\n",
    "    return expected_value\n",
    "\n",
    "assert(test_num() == 3)\n",
    "\n",
    "def test_find_index():\n",
    "    expected_value = # find the index of the first d value in clst\n",
    "    # Q: (what is the difference between index and find?)\n",
    "    return expected_value\n",
    "\n",
    "assert(test_find_index() == 4)\n",
    "\n",
    "def test_remove():\n",
    "    # remove the first occurance of c in clst\n",
    "    return clst\n",
    "\n",
    "answer = ['a','b','a','d', 'c', 'a','b','f', 'c']\n",
    "expected_value = test_remove()\n",
    "for i, a in enumerate(answer):\n",
    "    assert(a == expected_value[i])\n",
    "\n",
    "def test_insert():\n",
    "    # add the letter back into the same place\n",
    "    return clst\n",
    "\n",
    "answer = ['a','b','a','c','d', 'c', 'a','b','f', 'c']\n",
    "expected_value = test_insert()\n",
    "for i, a in enumerate(answer):\n",
    "    assert(a == expected_value[i])\n",
    "\n",
    "\n",
    "def test_sort():\n",
    "    expected_value = # sort the clst and return sorted value\n",
    "    return expected_value\n",
    "\n",
    "answer = ['a', 'a', 'a', 'b', 'b', 'c', 'c', 'c', 'd', 'f']\n",
    "expected_value = test_insert()\n",
    "for i, a in enumerate(answer):\n",
    "    assert(a == expected_value[i])"
   ]
  },
  {
   "cell_type": "markdown",
   "id": "b18919cd",
   "metadata": {},
   "source": [
    "#### Answer\n",
    "\n",
    "```python\n",
    "def test_concatenate():\n",
    "    expected_value = xx + yy# combine the xx and yy lists above (any three solutions acceptable)\n",
    "    return expected_value\n",
    "\n",
    "def test_unpack():\n",
    "    first, *middle, last = mylst# use the unpack operator to get the first and last items in mylst, the rest stay as a list\n",
    "    return first, middle, last\n",
    "\n",
    "def test_num():\n",
    "    expected_value = clst.count('c')# find the number of c characters there are in clst\n",
    "    return expected_value\n",
    "\n",
    "def test_find_index():\n",
    "    expected_value = clst.index('d')# find the index of the first d value in clst\n",
    "    # Q: (what is the difference between index and find?)\n",
    "    return expected_value\n",
    "\n",
    "def test_remove():\n",
    "    clst.remove('c') # remove the first occurance of c in clst\n",
    "    return clst\n",
    "\n",
    "def test_insert():\n",
    "    clst.insert(3, 'c') # add the letter back into the same place\n",
    "    return clst\n",
    "\n",
    "def test_sort():\n",
    "    expected_value = sorted(clst)# sort the clst and store it in expected value\n",
    "    return expected_value\n",
    "```"
   ]
  }
 ],
 "metadata": {
  "kernelspec": {
   "display_name": "Python 3 (ipykernel)",
   "language": "python",
   "name": "python3"
  },
  "language_info": {
   "codemirror_mode": {
    "name": "ipython",
    "version": 3
   },
   "file_extension": ".py",
   "mimetype": "text/x-python",
   "name": "python",
   "nbconvert_exporter": "python",
   "pygments_lexer": "ipython3",
   "version": "3.10.0"
  }
 },
 "nbformat": 4,
 "nbformat_minor": 5
}
